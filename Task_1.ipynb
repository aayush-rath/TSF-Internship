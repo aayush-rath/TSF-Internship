{
  "nbformat": 4,
  "nbformat_minor": 0,
  "metadata": {
    "colab": {
      "name": "Task_1.ipynb",
      "provenance": [],
      "authorship_tag": "ABX9TyO3SnZGfQejVLdDQxIHJpoZ",
      "include_colab_link": true
    },
    "kernelspec": {
      "name": "python3",
      "display_name": "Python 3"
    }
  },
  "cells": [
    {
      "cell_type": "markdown",
      "metadata": {
        "id": "view-in-github",
        "colab_type": "text"
      },
      "source": [
        "<a href=\"https://colab.research.google.com/github/aayush-rath/TSF-Internship/blob/main/Task_1.ipynb\" target=\"_parent\"><img src=\"https://colab.research.google.com/assets/colab-badge.svg\" alt=\"Open In Colab\"/></a>"
      ]
    },
    {
      "cell_type": "markdown",
      "metadata": {
        "id": "yIGDitU5wpfs"
      },
      "source": [
        "# Task 1\n",
        "This task involves making a simple student's score predictor based on the number of study hours using a simple linear regression model. To generate the model we shall use the scikit learn library and use this data: http://bit.ly/w-data to train the model"
      ]
    },
    {
      "cell_type": "code",
      "metadata": {
        "id": "AyXcTnIFTZ2m"
      },
      "source": [
        "# importing the required libraries\n",
        "import numpy as np\n",
        "import pandas as pd\n",
        "import matplotlib.pyplot as plt\n",
        "\n",
        "# reading the data\n",
        "data = pd.read_csv(\"http://bit.ly/w-data\")"
      ],
      "execution_count": 33,
      "outputs": []
    },
    {
      "cell_type": "code",
      "metadata": {
        "colab": {
          "base_uri": "https://localhost:8080/",
          "height": 203
        },
        "id": "19z31fukzGQH",
        "outputId": "bf0affb0-e39d-414a-ea1b-8b17ea27020c"
      },
      "source": [
        "# obesrving the data\n",
        "data.head()"
      ],
      "execution_count": 34,
      "outputs": [
        {
          "output_type": "execute_result",
          "data": {
            "text/html": [
              "<div>\n",
              "<style scoped>\n",
              "    .dataframe tbody tr th:only-of-type {\n",
              "        vertical-align: middle;\n",
              "    }\n",
              "\n",
              "    .dataframe tbody tr th {\n",
              "        vertical-align: top;\n",
              "    }\n",
              "\n",
              "    .dataframe thead th {\n",
              "        text-align: right;\n",
              "    }\n",
              "</style>\n",
              "<table border=\"1\" class=\"dataframe\">\n",
              "  <thead>\n",
              "    <tr style=\"text-align: right;\">\n",
              "      <th></th>\n",
              "      <th>Hours</th>\n",
              "      <th>Scores</th>\n",
              "    </tr>\n",
              "  </thead>\n",
              "  <tbody>\n",
              "    <tr>\n",
              "      <th>0</th>\n",
              "      <td>2.5</td>\n",
              "      <td>21</td>\n",
              "    </tr>\n",
              "    <tr>\n",
              "      <th>1</th>\n",
              "      <td>5.1</td>\n",
              "      <td>47</td>\n",
              "    </tr>\n",
              "    <tr>\n",
              "      <th>2</th>\n",
              "      <td>3.2</td>\n",
              "      <td>27</td>\n",
              "    </tr>\n",
              "    <tr>\n",
              "      <th>3</th>\n",
              "      <td>8.5</td>\n",
              "      <td>75</td>\n",
              "    </tr>\n",
              "    <tr>\n",
              "      <th>4</th>\n",
              "      <td>3.5</td>\n",
              "      <td>30</td>\n",
              "    </tr>\n",
              "  </tbody>\n",
              "</table>\n",
              "</div>"
            ],
            "text/plain": [
              "   Hours  Scores\n",
              "0    2.5      21\n",
              "1    5.1      47\n",
              "2    3.2      27\n",
              "3    8.5      75\n",
              "4    3.5      30"
            ]
          },
          "metadata": {},
          "execution_count": 34
        }
      ]
    },
    {
      "cell_type": "code",
      "metadata": {
        "colab": {
          "base_uri": "https://localhost:8080/",
          "height": 296
        },
        "id": "yPrATpRLzQFA",
        "outputId": "e476de5a-e2d9-4273-baa7-30ebe3a68deb"
      },
      "source": [
        "# Plotting the data\n",
        "X = data.iloc[:,:-1]\n",
        "y = data.iloc[:,1]\n",
        "\n",
        "graph = plt.scatter(X, y)\n",
        "plt.xlabel('No. of Hours')\n",
        "plt.ylabel('Percentage of students')"
      ],
      "execution_count": 35,
      "outputs": [
        {
          "output_type": "execute_result",
          "data": {
            "text/plain": [
              "Text(0, 0.5, 'Percentage of students')"
            ]
          },
          "metadata": {},
          "execution_count": 35
        },
        {
          "output_type": "display_data",
          "data": {
            "image/png": "[encoded data removed]",
            "text/plain": [
              "<Figure size 432x288 with 1 Axes>"
            ]
          },
          "metadata": {
            "needs_background": "light"
          }
        }
      ]
    },
    {
      "cell_type": "markdown",
      "metadata": {
        "id": "9Y77SxCvy9qt"
      },
      "source": [
        "# Choosing the model\n",
        "Looking at the data plot we can observe that it can be estimated to a linear function. So we split the given data into Train and Test data sets. The Train data set will used to train the model and the Test data set will be used to evaluate the accuracy of the model"
      ]
    },
    {
      "cell_type": "code",
      "metadata": {
        "id": "syzfepSZzgpJ"
      },
      "source": [
        "# Test and train data set splitting\n",
        "from sklearn.model_selection import train_test_split\n",
        "X_train, X_test, y_train, y_test = train_test_split(X, y, test_size = 0.2, random_state=0)"
      ],
      "execution_count": 36,
      "outputs": []
    },
    {
      "cell_type": "code",
      "metadata": {
        "colab": {
          "base_uri": "https://localhost:8080/"
        },
        "id": "uXR60kii3gbF",
        "outputId": "99a4cae2-9818-45a1-dd7b-d41afae39065"
      },
      "source": [
        "# Training the linear regression model\n",
        "from sklearn.linear_model import LinearRegression\n",
        "model = LinearRegression()\n",
        "model.fit(X_train, y_train)"
      ],
      "execution_count": 37,
      "outputs": [
        {
          "output_type": "execute_result",
          "data": {
            "text/plain": [
              "LinearRegression(copy_X=True, fit_intercept=True, n_jobs=None, normalize=False)"
            ]
          },
          "metadata": {},
          "execution_count": 37
        }
      ]
    },
    {
      "cell_type": "code",
      "metadata": {
        "colab": {
          "base_uri": "https://localhost:8080/",
          "height": 265
        },
        "id": "lPzXIQID4FEt",
        "outputId": "e2daac60-24ea-415b-e1b2-6b2eaf1a5c95"
      },
      "source": [
        "# Plotting the line\n",
        "line = model.coef_*X+model.intercept_\n",
        "\n",
        "plt.scatter(X, y)\n",
        "plt.plot(X, line);\n",
        "plt.show()"
      ],
      "execution_count": 38,
      "outputs": [
        {
          "output_type": "display_data",
          "data": {
            "image/png": "[encoded data removed]",
            "text/plain": [
              "<Figure size 432x288 with 1 Axes>"
            ]
          },
          "metadata": {
            "needs_background": "light"
          }
        }
      ]
    },
    {
      "cell_type": "code",
      "metadata": {
        "id": "0vmlU9gx7hOM",
        "colab": {
          "base_uri": "https://localhost:8080/"
        },
        "outputId": "ba87eacf-423f-4327-b0a6-b39c8ba5bfd6"
      },
      "source": [
        "# Predicting for a given value\n",
        "hours = [[9.25]]\n",
        "predicted_score = model.predict(hours)\n",
        "print(\"For \" + str(hours[0][0]) + \" hours of study the predicted score is \" + str(predicted_score[0]))"
      ],
      "execution_count": 39,
      "outputs": [
        {
          "output_type": "stream",
          "name": "stdout",
          "text": [
            "For 9.25 hours of study the predicted score is 93.69173248737539\n"
          ]
        }
      ]
    },
    {
      "cell_type": "code",
      "metadata": {
        "colab": {
          "base_uri": "https://localhost:8080/"
        },
        "id": "Rx-62PX4vMsT",
        "outputId": "267aa496-7c37-45d1-d2d2-0afb844df484"
      },
      "source": [
        "# Evaluating the model by calculating the average of the absolute error. Smaller the error more the accuracy\n",
        "y_pred = model.predict(X_test)\n",
        "\n",
        "from sklearn import metrics\n",
        "mu = metrics.mean_absolute_error(y_test, y_pred)\n",
        "print(\"Mean absolute error: {}\".format(mu))"
      ],
      "execution_count": 40,
      "outputs": [
        {
          "output_type": "stream",
          "name": "stdout",
          "text": [
            "Mean absolute error: 4.183859899002982\n"
          ]
        }
      ]
    }
  ]
}